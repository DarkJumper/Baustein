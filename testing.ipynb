{
 "metadata": {
  "language_info": {
   "codemirror_mode": {
    "name": "ipython",
    "version": 3
   },
   "file_extension": ".py",
   "mimetype": "text/x-python",
   "name": "python",
   "nbconvert_exporter": "python",
   "pygments_lexer": "ipython3",
   "version": "3.9.1-final"
  },
  "orig_nbformat": 2,
  "kernelspec": {
   "name": "python3",
   "display_name": "Python 3.9.1 64-bit ('Baustein': venv)",
   "metadata": {
    "interpreter": {
     "hash": "798200bebe8a35e42b2cb238b1f87bf524c4455a3901e144a72908c0b6acf27f"
    }
   }
  }
 },
 "nbformat": 4,
 "nbformat_minor": 2,
 "cells": [
  {
   "cell_type": "code",
   "execution_count": 1,
   "metadata": {},
   "outputs": [],
   "source": [
    "from help_dec import *\n",
    "from Freelance import MsrData, FreelanceBase\n",
    "from ReadWrite import ReadFile"
   ]
  },
  {
   "cell_type": "code",
   "execution_count": null,
   "metadata": {},
   "outputs": [],
   "source": [
    "path = \"elyse.csv\"\n",
    "encoding = \"utf-16\""
   ]
  },
  {
   "cell_type": "code",
   "execution_count": null,
   "metadata": {},
   "outputs": [],
   "source": [
    "test = ReadFile()\n",
    "test.readFile = (path, encoding)\n",
    "for i in test.readFile:\n",
    "    print(i)\n",
    "print(test)"
   ]
  }
 ]
}